{
  "nbformat": 4,
  "nbformat_minor": 0,
  "metadata": {
    "colab": {
      "name": "Untitled5.ipynb",
      "provenance": [],
      "authorship_tag": "ABX9TyOXqhy1nD7vrO2JnS2Q1c0A",
      "include_colab_link": true
    },
    "kernelspec": {
      "name": "python3",
      "display_name": "Python 3"
    },
    "accelerator": "GPU"
  },
  "cells": [
    {
      "cell_type": "markdown",
      "metadata": {
        "id": "view-in-github",
        "colab_type": "text"
      },
      "source": [
        "<a href=\"https://colab.research.google.com/github/Krati012/IDP-2020/blob/master/TRRS.ipynb\" target=\"_parent\"><img src=\"https://colab.research.google.com/assets/colab-badge.svg\" alt=\"Open In Colab\"/></a>"
      ]
    },
    {
      "cell_type": "code",
      "metadata": {
        "id": "aX3moxmHnbst",
        "colab_type": "code",
        "colab": {
          "base_uri": "https://localhost:8080/",
          "height": 124
        },
        "outputId": "edd2b6d7-32d5-4bef-fdcf-9bd815bdfa4f"
      },
      "source": [
        "from google.colab import drive\n",
        "drive.mount('/content/gdrive')"
      ],
      "execution_count": 1,
      "outputs": [
        {
          "output_type": "stream",
          "text": [
            "Go to this URL in a browser: https://accounts.google.com/o/oauth2/auth?client_id=947318989803-6bn6qk8qdgf4n4g3pfee6491hc0brc4i.apps.googleusercontent.com&redirect_uri=urn%3aietf%3awg%3aoauth%3a2.0%3aoob&response_type=code&scope=email%20https%3a%2f%2fwww.googleapis.com%2fauth%2fdocs.test%20https%3a%2f%2fwww.googleapis.com%2fauth%2fdrive%20https%3a%2f%2fwww.googleapis.com%2fauth%2fdrive.photos.readonly%20https%3a%2f%2fwww.googleapis.com%2fauth%2fpeopleapi.readonly\n",
            "\n",
            "Enter your authorization code:\n",
            "··········\n",
            "Mounted at /content/gdrive\n"
          ],
          "name": "stdout"
        }
      ]
    },
    {
      "cell_type": "code",
      "metadata": {
        "id": "i4oKpZMKnhke",
        "colab_type": "code",
        "colab": {
          "base_uri": "https://localhost:8080/",
          "height": 399
        },
        "outputId": "ab2483c3-67d1-4ddb-ebbb-fbfc11c07644"
      },
      "source": [
        "!ls \"/content/gdrive/My Drive/CTW_2019\""
      ],
      "execution_count": 2,
      "outputs": [
        {
          "output_type": "stream",
          "text": [
            " AE_Model_Conv2.h5\t  CTW2019_logarithimic_mean_sqr.h5\n",
            " AE_Model_Conv.h5\t  CTW2019_mean_sqr2.h5\n",
            " AutoEncoderModel1.h5\t  CTW2019_mean_sqr.h5\n",
            " AutoEncoderModel2.h5\t  data2019.h5\n",
            " AutoEncoderModel.h5\t  data_feat.h5\n",
            " best_AE1.h5\t\t  h_Estimated_CTW_Train.h5\n",
            " best_AE2.h5\t\t  Histogram_MSE.png\n",
            " best_AE3.h5\t\t  Histogram.png\n",
            " best_AE4.h5\t\t  Histogram_RMSE.png\n",
            " best_cnn.h5\t\t  NDR.ipynb\n",
            " best_cnn_ndr2.h5\t 'PCA(1056)+CNN'\n",
            " best_cnn_ndr3.h5\t 'PCA(66)+CNN'\n",
            " best_cnn_ndr4.h5\t  PCA+MLP_Hist.png\n",
            " best_cnn_ndr5_adam.h5\t  PCA+MLP.ipynb\n",
            " best_cnn_ndr.h5\t  PCA_Unsupervised.sav\n",
            " best.h5\t\t  r_Position_CTW_Train.h5\n",
            " Best_PCA_CNN_2.h5\t  saved_model.pb\n",
            " Best_PCA_CNN.h5\t  SimpleAE.h5\n",
            " best_PCA.h5\t\t  SimpleAE_pred.h5\n",
            "'Copy of AE.ipynb'\t  SNR_CTW_Train.h5\n",
            "'Copy of PCA+CNN'\t  test.out\n",
            " CTW2019_Dataset_h5.zip\n"
          ],
          "name": "stdout"
        }
      ]
    },
    {
      "cell_type": "code",
      "metadata": {
        "id": "79sTEQADnzBa",
        "colab_type": "code",
        "colab": {
          "base_uri": "https://localhost:8080/",
          "height": 34
        },
        "outputId": "6390733d-2639-4daa-b426-4ec0647a2539"
      },
      "source": [
        "import numpy as np # linear algebra\n",
        "import keras\n",
        "import os\n",
        "import h5py\n",
        "import pandas as pd\n",
        "import time\n",
        "import matplotlib.pyplot as plt\n",
        "import tensorflow as tf"
      ],
      "execution_count": 3,
      "outputs": [
        {
          "output_type": "stream",
          "text": [
            "Using TensorFlow backend.\n"
          ],
          "name": "stderr"
        }
      ]
    },
    {
      "cell_type": "code",
      "metadata": {
        "id": "BT9U5OK8n8eE",
        "colab_type": "code",
        "colab": {
          "base_uri": "https://localhost:8080/",
          "height": 54
        },
        "outputId": "36f52489-bffa-49a3-ed12-0995988c0675"
      },
      "source": [
        "'''#getting and processing data\n",
        "#h_Estimated   ---> shape = (2, 924, 16, 17486)\n",
        "#r_postition ---> shape = (3, 17486)\n",
        "#SNR_Est    ---> shape = (16, 17486)\n",
        "\n",
        "\n",
        "batch_size = 30\n",
        "epochs = 50\n",
        "data_augmentation = False\n",
        "save_dir = os.path.join(os.getcwd(), 'saved_models')\n",
        "model_name = 'keras_cnn_training.h5'\n",
        "'''"
      ],
      "execution_count": 4,
      "outputs": [
        {
          "output_type": "execute_result",
          "data": {
            "text/plain": [
              "\"#getting and processing data\\n#h_Estimated   ---> shape = (2, 924, 16, 17486)\\n#r_postition ---> shape = (3, 17486)\\n#SNR_Est    ---> shape = (16, 17486)\\n\\n\\nbatch_size = 30\\nepochs = 50\\ndata_augmentation = False\\nsave_dir = os.path.join(os.getcwd(), 'saved_models')\\nmodel_name = 'keras_cnn_training.h5'\\n\""
            ]
          },
          "metadata": {
            "tags": []
          },
          "execution_count": 4
        }
      ]
    },
    {
      "cell_type": "code",
      "metadata": {
        "id": "aREfD2wkoDHn",
        "colab_type": "code",
        "colab": {}
      },
      "source": [
        "f = h5py.File('/content/gdrive/My Drive/CTW_2019/h_Estimated_CTW_Train.h5','r')\n",
        "H = f['h_Estimated']\n",
        "f = h5py.File('/content/gdrive/My Drive/CTW_2019/r_Position_CTW_Train.h5','r')\n",
        "pos = f['r_Position']\n"
      ],
      "execution_count": 4,
      "outputs": []
    },
    {
      "cell_type": "code",
      "metadata": {
        "id": "LtB7eKaxoMHJ",
        "colab_type": "code",
        "colab": {
          "base_uri": "https://localhost:8080/",
          "height": 34
        },
        "outputId": "8abb87a7-c931-46ba-f450-4164560604f5"
      },
      "source": [
        "print(H.shape)\n",
        "H = np.array(H)\n",
        "pos = np.array(pos)"
      ],
      "execution_count": 5,
      "outputs": [
        {
          "output_type": "stream",
          "text": [
            "(2, 924, 16, 17486)\n"
          ],
          "name": "stdout"
        }
      ]
    },
    {
      "cell_type": "code",
      "metadata": {
        "id": "eNRQWvBaoSS8",
        "colab_type": "code",
        "colab": {
          "base_uri": "https://localhost:8080/",
          "height": 52
        },
        "outputId": "6975711b-d24a-4eba-bee4-80a38c3e8089"
      },
      "source": [
        "data = H[:,:,:,:1000]\n",
        "print(data.shape)\n",
        "pos = pos[:,:1000]\n",
        "print(pos.shape)"
      ],
      "execution_count": 7,
      "outputs": [
        {
          "output_type": "stream",
          "text": [
            "(2, 924, 16, 1000)\n",
            "(3, 1000)\n"
          ],
          "name": "stdout"
        }
      ]
    },
    {
      "cell_type": "code",
      "metadata": {
        "id": "N6bRey6bo3eW",
        "colab_type": "code",
        "colab": {
          "base_uri": "https://localhost:8080/",
          "height": 52
        },
        "outputId": "bdba8490-70e0-4eff-b177-e82051540120"
      },
      "source": [
        "H = data[:,:,:,:900]\n",
        "H = H.swapaxes(0, -1)\n",
        "pos = pos[:,:900]\n",
        "H_test = data[:,:,:,900:]\n",
        "H_test = H_test.swapaxes(0, -1)\n",
        "pos_test = pos[:,900:]\n",
        "print(H.shape)\n",
        "print(H_test.shape)"
      ],
      "execution_count": 8,
      "outputs": [
        {
          "output_type": "stream",
          "text": [
            "(900, 924, 16, 2)\n",
            "(100, 924, 16, 2)\n"
          ],
          "name": "stdout"
        }
      ]
    },
    {
      "cell_type": "code",
      "metadata": {
        "id": "p9JHLVZ_q0_P",
        "colab_type": "code",
        "colab": {
          "base_uri": "https://localhost:8080/",
          "height": 104
        },
        "outputId": "4e663437-dfc8-4a24-b8c1-953699ecbc7a"
      },
      "source": [
        "H1 = H[1]\n",
        "H2 = H_test[1]\n",
        "\n",
        "#print(H1[:,:,0].shape)\n",
        "\n",
        "Yd1 = np.sum((np.multiply(H1[:,:,0], H1[:,:,0]) + np.multiply(H1[:,:,1], H1[:,:,1])), axis=0)\n",
        "Yd2 = np.sum((np.multiply(H2[:,:,0], H2[:,:,0]) + np.multiply(H2[:,:,1], H2[:,:,1])), axis=0)\n",
        "print(Yd2.shape)   #We have 16 links\n",
        "\n",
        "G_re = np.multiply(H1[:,:,0], H2[:,:,0]) + np.multiply(H1[:,:,1], H2[:,:,1])\n",
        "G_im = np.multiply(H2[:,:,0], H1[:,:,1]) - np.multiply(H1[:,:,0], H2[:,:,1])\n",
        "G = G_re + G_im * 1j\n",
        "print(G.shape)\n",
        "\n",
        "Nser = 1024\n",
        "G = np.concatenate((G, np.zeros((Nser-924, 16))), axis=0)\n",
        "\n",
        "g = np.fft.fftn(G, axes=(0,))\n",
        "print(g.shape)\n",
        "\n",
        "phi_d = np.ndarray.max((np.square(np.abs(g))), axis=0)\n",
        "phi_d = np.divide(phi_d,np.multiply(Yd1, Yd2))\n",
        "print(phi_d.shape)\n",
        "\n",
        "w_d = np.sqrt(np.multiply(Yd1,Yd2))/(np.sqrt(np.sum(Yd1)) * np.sum(Yd2))\n",
        "\n",
        "TRRS = np.sum(np.multiply(w_d,np.sqrt(phi_d)))\n",
        "TRRS = TRRS**2\n",
        "\n",
        "print(TRRS)"
      ],
      "execution_count": 13,
      "outputs": [
        {
          "output_type": "stream",
          "text": [
            "(16,)\n",
            "(924, 16)\n",
            "(1024, 16)\n",
            "(16,)\n",
            "0.02238512572668457\n"
          ],
          "name": "stdout"
        }
      ]
    },
    {
      "cell_type": "code",
      "metadata": {
        "id": "muEX7FIF9DKM",
        "colab_type": "code",
        "colab": {}
      },
      "source": [
        ""
      ],
      "execution_count": null,
      "outputs": []
    }
  ]
}