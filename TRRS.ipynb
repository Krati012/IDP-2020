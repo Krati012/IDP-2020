{
  "nbformat": 4,
  "nbformat_minor": 0,
  "metadata": {
    "colab": {
      "name": "Untitled5.ipynb",
      "provenance": [],
      "authorship_tag": "ABX9TyNN29h4TrnNjUDf58GTj2/c",
      "include_colab_link": true
    },
    "kernelspec": {
      "name": "python3",
      "display_name": "Python 3"
    },
    "accelerator": "GPU"
  },
  "cells": [
    {
      "cell_type": "markdown",
      "metadata": {
        "id": "view-in-github",
        "colab_type": "text"
      },
      "source": [
        "<a href=\"https://colab.research.google.com/github/Krati012/IDP-2020/blob/master/TRRS.ipynb\" target=\"_parent\"><img src=\"https://colab.research.google.com/assets/colab-badge.svg\" alt=\"Open In Colab\"/></a>"
      ]
    },
    {
      "cell_type": "code",
      "metadata": {
        "id": "aX3moxmHnbst",
        "colab_type": "code",
        "colab": {
          "base_uri": "https://localhost:8080/",
          "height": 124
        },
        "outputId": "4b07d4be-33c3-400f-b4fa-2ab138a54ef3"
      },
      "source": [
        "from google.colab import drive\n",
        "drive.mount('/content/gdrive')"
      ],
      "execution_count": 3,
      "outputs": [
        {
          "output_type": "stream",
          "text": [
            "Go to this URL in a browser: https://accounts.google.com/o/oauth2/auth?client_id=947318989803-6bn6qk8qdgf4n4g3pfee6491hc0brc4i.apps.googleusercontent.com&redirect_uri=urn%3aietf%3awg%3aoauth%3a2.0%3aoob&response_type=code&scope=email%20https%3a%2f%2fwww.googleapis.com%2fauth%2fdocs.test%20https%3a%2f%2fwww.googleapis.com%2fauth%2fdrive%20https%3a%2f%2fwww.googleapis.com%2fauth%2fdrive.photos.readonly%20https%3a%2f%2fwww.googleapis.com%2fauth%2fpeopleapi.readonly\n",
            "\n",
            "Enter your authorization code:\n",
            "··········\n",
            "Mounted at /content/gdrive\n"
          ],
          "name": "stdout"
        }
      ]
    },
    {
      "cell_type": "code",
      "metadata": {
        "id": "i4oKpZMKnhke",
        "colab_type": "code",
        "colab": {
          "base_uri": "https://localhost:8080/",
          "height": 416
        },
        "outputId": "9d85482f-1448-497e-f795-0e92b9327bd0"
      },
      "source": [
        "!ls \"/content/gdrive/My Drive/CTW_2019\""
      ],
      "execution_count": 4,
      "outputs": [
        {
          "output_type": "stream",
          "text": [
            " AE_Model_Conv2.h5\t\t    CTW2019_mean_sqr2.h5\n",
            " AE_Model_Conv.h5\t\t    CTW2019_mean_sqr.h5\n",
            " AutoEncoderModel1.h5\t\t    data2019.h5\n",
            " AutoEncoderModel2.h5\t\t    data_feat.h5\n",
            " AutoEncoderModel.h5\t\t    ensemble_NDR_CNN_SNR_finetune.h5\n",
            " best_AE1.h5\t\t\t    ensemble_NDR_CNN_SNR.h5\n",
            " best_AE2.h5\t\t\t    h_Estimated_CTW_Train.h5\n",
            " best_AE3.h5\t\t\t    Histogram_MSE.png\n",
            " best_AE4.h5\t\t\t    Histogram.png\n",
            " best_cnn.h5\t\t\t    Histogram_RMSE.png\n",
            " best_cnn_ndr2.h5\t\t    NDR.ipynb\n",
            " best_cnn_ndr3.h5\t\t   'PCA(1056)+CNN'\n",
            " best_cnn_ndr4.h5\t\t   'PCA(66)+CNN'\n",
            " best_cnn_ndr5_adam.h5\t\t    PCA+MLP_Hist.png\n",
            " best_cnn_ndr.h5\t\t    PCA+MLP.ipynb\n",
            " best.h5\t\t\t    PCA_Unsupervised.sav\n",
            " Best_PCA_CNN_2.h5\t\t    r_Position_CTW_Train.h5\n",
            " Best_PCA_CNN.h5\t\t    saved_model.pb\n",
            " best_PCA.h5\t\t\t    SimpleAE.h5\n",
            "'Copy of AE.ipynb'\t\t    SimpleAE_pred.h5\n",
            "'Copy of PCA+CNN'\t\t    SNR_CTW_Train.h5\n",
            " CTW2019_Dataset_h5.zip\t\t    test.out\n",
            " CTW2019_logarithimic_mean_sqr.h5\n"
          ],
          "name": "stdout"
        }
      ]
    },
    {
      "cell_type": "code",
      "metadata": {
        "id": "79sTEQADnzBa",
        "colab_type": "code",
        "colab": {}
      },
      "source": [
        "import numpy as np # linear algebra\n",
        "import keras\n",
        "import os\n",
        "import h5py\n",
        "import pandas as pd\n",
        "import time\n",
        "import matplotlib.pyplot as plt\n",
        "import tensorflow as tf"
      ],
      "execution_count": 5,
      "outputs": []
    },
    {
      "cell_type": "code",
      "metadata": {
        "id": "BT9U5OK8n8eE",
        "colab_type": "code",
        "colab": {
          "base_uri": "https://localhost:8080/",
          "height": 54
        },
        "outputId": "98ddfd9e-53bb-414e-c4a9-f5f2927dc339"
      },
      "source": [
        "'''#getting and processing data\n",
        "#h_Estimated   ---> shape = (2, 924, 16, 17486)\n",
        "#r_postition ---> shape = (3, 17486)\n",
        "#SNR_Est    ---> shape = (16, 17486)\n",
        "\n",
        "\n",
        "batch_size = 30\n",
        "epochs = 50\n",
        "data_augmentation = False\n",
        "save_dir = os.path.join(os.getcwd(), 'saved_models')\n",
        "model_name = 'keras_cnn_training.h5'\n",
        "'''"
      ],
      "execution_count": 6,
      "outputs": [
        {
          "output_type": "execute_result",
          "data": {
            "text/plain": [
              "\"#getting and processing data\\n#h_Estimated   ---> shape = (2, 924, 16, 17486)\\n#r_postition ---> shape = (3, 17486)\\n#SNR_Est    ---> shape = (16, 17486)\\n\\n\\nbatch_size = 30\\nepochs = 50\\ndata_augmentation = False\\nsave_dir = os.path.join(os.getcwd(), 'saved_models')\\nmodel_name = 'keras_cnn_training.h5'\\n\""
            ]
          },
          "metadata": {
            "tags": []
          },
          "execution_count": 6
        }
      ]
    },
    {
      "cell_type": "code",
      "metadata": {
        "id": "aREfD2wkoDHn",
        "colab_type": "code",
        "colab": {}
      },
      "source": [
        "f = h5py.File('/content/gdrive/My Drive/CTW_2019/h_Estimated_CTW_Train.h5','r')\n",
        "H = f['h_Estimated']\n",
        "f = h5py.File('/content/gdrive/My Drive/CTW_2019/r_Position_CTW_Train.h5','r')\n",
        "pos = f['r_Position']\n"
      ],
      "execution_count": 7,
      "outputs": []
    },
    {
      "cell_type": "code",
      "metadata": {
        "id": "LtB7eKaxoMHJ",
        "colab_type": "code",
        "colab": {
          "base_uri": "https://localhost:8080/",
          "height": 34
        },
        "outputId": "959e35a6-b7fb-4e39-84ab-a9046e277d0d"
      },
      "source": [
        "print(H.shape)\n",
        "H = np.array(H)\n",
        "pos = np.array(pos)"
      ],
      "execution_count": 8,
      "outputs": [
        {
          "output_type": "stream",
          "text": [
            "(2, 924, 16, 17486)\n"
          ],
          "name": "stdout"
        }
      ]
    },
    {
      "cell_type": "code",
      "metadata": {
        "id": "eNRQWvBaoSS8",
        "colab_type": "code",
        "colab": {
          "base_uri": "https://localhost:8080/",
          "height": 52
        },
        "outputId": "a2c79084-db1d-40b3-b217-87ccaef89112"
      },
      "source": [
        "data = H[:,:,:,:1000]\n",
        "print(data.shape)\n",
        "xyz = pos[:,:1000]\n",
        "print(xyz.shape)"
      ],
      "execution_count": 9,
      "outputs": [
        {
          "output_type": "stream",
          "text": [
            "(2, 924, 16, 1000)\n",
            "(3, 1000)\n"
          ],
          "name": "stdout"
        }
      ]
    },
    {
      "cell_type": "code",
      "metadata": {
        "id": "N6bRey6bo3eW",
        "colab_type": "code",
        "colab": {
          "base_uri": "https://localhost:8080/",
          "height": 52
        },
        "outputId": "b2f47f71-0f46-428b-b521-99ec644d0075"
      },
      "source": [
        "H = data[:,:,:,:900]\n",
        "H = H.swapaxes(0, -1)\n",
        "pos = xyz[:,:900]\n",
        "\n",
        "H_test = data[:,:,:,900:]\n",
        "H_test = H_test.swapaxes(0, -1)\n",
        "pos_test = xyz[:,900:]\n",
        "\n",
        "print(H.shape)\n",
        "print(pos_test.shape)"
      ],
      "execution_count": 13,
      "outputs": [
        {
          "output_type": "stream",
          "text": [
            "(900, 924, 16, 2)\n",
            "(3, 100)\n"
          ],
          "name": "stdout"
        }
      ]
    },
    {
      "cell_type": "code",
      "metadata": {
        "id": "p9JHLVZ_q0_P",
        "colab_type": "code",
        "colab": {
          "base_uri": "https://localhost:8080/",
          "height": 139
        },
        "outputId": "fb5b32cb-8cd1-49c9-ccad-66ef66282de2"
      },
      "source": [
        "'''Both Single CFR'''\n",
        "H1 = H[1]\n",
        "H2 = H_test[1]\n",
        "\n",
        "print(H2.shape)\n",
        "\n",
        "Yd1 = np.sum(((H1*H1)[:,:,0]) + ((H1*H1)[:,:,1]), axis=0)\n",
        "Yd2 = np.sum((H2*H2)[:,:,0] + (H2*H2)[:,:,1] , axis=0)\n",
        "print(Yd2.shape)   #We have 16 links\n",
        "\n",
        "H11 = H1[:,:,0] + H1[:,:,1] * 1j\n",
        "H22 = H2[:,:,0] - H2[:,:,1] * 1j\n",
        "G = H11 * H22\n",
        "print(G.shape)\n",
        "\n",
        "\n",
        "Nser = 1024\n",
        "Nu = 924\n",
        "G = np.concatenate((G, np.zeros((Nser-Nu, 16))), axis=0)\n",
        "\n",
        "g = np.fft.fftn(G, axes=(0,))\n",
        "print(g.shape)\n",
        "\n",
        "phi_d = np.ndarray.max((np.square(np.abs(g))), axis=0)\n",
        "phi_d = np.divide(phi_d,np.multiply(Yd1, Yd2))\n",
        "print(phi_d.shape)\n",
        "\n",
        "w_d = np.sqrt(np.multiply(Yd1,Yd2))/(np.sqrt(np.sum(Yd1)) * np.sum(Yd2))\n",
        "print(w_d.shape)\n",
        "\n",
        "TRRS = np.sum(np.multiply(w_d,np.sqrt(phi_d)))\n",
        "TRRS = TRRS**2\n",
        "\n",
        "print(TRRS)"
      ],
      "execution_count": 14,
      "outputs": [
        {
          "output_type": "stream",
          "text": [
            "(924, 16, 2)\n",
            "(16,)\n",
            "(924, 16)\n",
            "(1024, 16)\n",
            "(16,)\n",
            "(16,)\n",
            "0.02238512572668457\n"
          ],
          "name": "stdout"
        }
      ]
    },
    {
      "cell_type": "code",
      "metadata": {
        "id": "muEX7FIF9DKM",
        "colab_type": "code",
        "colab": {
          "base_uri": "https://localhost:8080/",
          "height": 69
        },
        "outputId": "e3c4df2d-98a5-45cd-fb55-11bdc54c00eb"
      },
      "source": [
        "'''H1 grid, H2 single CFR'''\n",
        "X = H\n",
        "\n",
        "def trrs(H1, H2):\n",
        "  Yd1 = np.sum((H1*H1)[:,:,:,0] + (H1*H1)[:,:,:,1] , axis=1)\n",
        "  Yd2 = np.sum((H2*H2)[:,:,0] + (H2*H2)[:,:,1] , axis=0)\n",
        "  #print((Yd1*Yd2).shape)\n",
        "\n",
        "  H11 = H1[:,:,:,0] + H1[:,:,:,1] * 1j\n",
        "  H22 = H2[:,:,0] - H2[:,:,1] * 1j\n",
        "  G = H11 * H22\n",
        "  \n",
        "  Nser = 1024\n",
        "  Nu = 924\n",
        "  G = np.concatenate((G, np.zeros((900,Nser-Nu, 16))), axis=1)\n",
        "  #print(G.shape)\n",
        "\n",
        "  g = np.fft.fftn(G, axes=(1,))\n",
        "  #print(g.shape)\n",
        "\n",
        "  phi_d = np.ndarray.max((np.square(np.abs(g))), axis=1)\n",
        "  phi_d = np.divide(phi_d,(Yd1*Yd2))\n",
        "  #print(phi_d.shape)\n",
        "\n",
        "  w_d = np.sqrt((Yd1 * Yd2))\n",
        "  w_d = np.transpose(w_d)/(np.sqrt(np.sum(Yd1, axis=1)) * np.sum(Yd2))\n",
        "  w_d = np.transpose(w_d)\n",
        "  #print(w_d.shape)\n",
        "  \n",
        "  TRRS = np.sum(np.multiply(w_d,np.sqrt(phi_d)), axis=1)\n",
        "  TRRS = np.square(TRRS)\n",
        "\n",
        "  idx = np.argmax(TRRS)\n",
        "\n",
        "  return pos[:,idx]\n",
        "\n",
        "\n",
        "print(trrs(X,H2))\n",
        "print(pos_test[:,1])\n",
        "error = np.sqrt(((trrs(X,H2) - pos_test[:,1]) ** 2).mean())\n",
        "print(error)\n",
        "  "
      ],
      "execution_count": 21,
      "outputs": [
        {
          "output_type": "stream",
          "text": [
            "[ 3.4761  0.4693 -0.5203]\n",
            "[ 3.4761  0.4693 -0.5203]\n",
            "0.0\n"
          ],
          "name": "stdout"
        }
      ]
    },
    {
      "cell_type": "code",
      "metadata": {
        "id": "FrMwpHe7RMmY",
        "colab_type": "code",
        "colab": {
          "base_uri": "https://localhost:8080/",
          "height": 34
        },
        "outputId": "e1a190fd-28bf-4144-f02d-c7348b117e87"
      },
      "source": [
        "'''Complete train and test set'''\n",
        "ans_grid = np.zeros((pos_test.shape))\n",
        "\n",
        "for i in range(0,100):\n",
        "  for j in range(0,3):\n",
        "    ans_grid[j][i] = trrs(X,H_test[i])[j]\n",
        "\n",
        "err = np.sqrt(((ans_grid - pos_test) ** 2).mean())\n",
        "\n",
        "print(err)\n"
      ],
      "execution_count": 22,
      "outputs": [
        {
          "output_type": "stream",
          "text": [
            "0.8966715157365786\n"
          ],
          "name": "stdout"
        }
      ]
    }
  ]
}